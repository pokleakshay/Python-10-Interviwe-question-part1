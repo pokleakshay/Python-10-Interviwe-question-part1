{
 "cells": [
  {
   "cell_type": "markdown",
   "id": "acb8e3f5-94a7-4922-88a0-8fb459814f1e",
   "metadata": {},
   "source": [
    "## Q1 Palindrom string"
   ]
  },
  {
   "cell_type": "code",
   "execution_count": 7,
   "id": "9f5594f8-441a-4ff1-a482-f79fa1f01257",
   "metadata": {},
   "outputs": [],
   "source": [
    "def palindrom(string1):\n",
    "    temp=string1[::-1].lower()\n",
    "    if temp==string1.lower():\n",
    "        print('Its Palindrom string')\n",
    "    else:\n",
    "        print(\"Not Palindrome string\")"
   ]
  },
  {
   "cell_type": "code",
   "execution_count": 10,
   "id": "463a5348-c433-4716-8a6a-caf13cc90a5a",
   "metadata": {},
   "outputs": [
    {
     "name": "stdout",
     "output_type": "stream",
     "text": [
      "Its Palindrom string\n"
     ]
    }
   ],
   "source": [
    "palindrom('Nitin')"
   ]
  },
  {
   "cell_type": "code",
   "execution_count": 11,
   "id": "009c9ecb-0119-4bdb-972b-d8c93303298e",
   "metadata": {},
   "outputs": [
    {
     "name": "stdout",
     "output_type": "stream",
     "text": [
      "Not Palindrome string\n"
     ]
    }
   ],
   "source": [
    "palindrom('akshay')"
   ]
  },
  {
   "cell_type": "code",
   "execution_count": 15,
   "id": "fbfcefc8-d7b7-4b1e-96ee-b354bf6a25b6",
   "metadata": {},
   "outputs": [],
   "source": [
    "#By using indexing\n",
    "def palindrom2(s):\n",
    "    n=len(s)\n",
    "    for i in range(n):\n",
    "        if s[i].lower() != s[n-i-1].lower():\n",
    "            return False\n",
    "    return True"
   ]
  },
  {
   "cell_type": "code",
   "execution_count": 18,
   "id": "c1ef9531-9d38-402f-938d-716939749d9b",
   "metadata": {},
   "outputs": [
    {
     "data": {
      "text/plain": [
       "False"
      ]
     },
     "execution_count": 18,
     "metadata": {},
     "output_type": "execute_result"
    }
   ],
   "source": [
    "palindrom2('Nwitin')"
   ]
  },
  {
   "cell_type": "code",
   "execution_count": 31,
   "id": "01b73a39-c0c7-4ef8-a6a5-b547737f88f2",
   "metadata": {},
   "outputs": [],
   "source": [
    "#By using inbuild function\n",
    "\n",
    "def palindrom3(s):\n",
    "    reverse_s=reversed(s)\n",
    "    #print(reverse_s)\n",
    "    \n",
    "    temp=''.join(reversed(s))\n",
    "    #print(temp)\n",
    "    if s==temp:\n",
    "        print('yes')\n",
    "    else:\n",
    "        print('no')\n",
    "        \n"
   ]
  },
  {
   "cell_type": "code",
   "execution_count": 33,
   "id": "08ee2c25-0887-44f8-9164-4187d396013b",
   "metadata": {},
   "outputs": [
    {
     "name": "stdout",
     "output_type": "stream",
     "text": [
      "no\n"
     ]
    }
   ],
   "source": [
    "palindrom3(\"nitind\")"
   ]
  },
  {
   "cell_type": "code",
   "execution_count": 34,
   "id": "dc221c69-9ca0-4320-9344-78ff8a8c792e",
   "metadata": {},
   "outputs": [],
   "source": [
    "# By using While Loop\n",
    "def palindrom4(s):\n",
    "    n=len(s)\n",
    "    first=0\n",
    "    last=n-1\n",
    "    while (first<last):\n",
    "        if s[first]==s[last]:\n",
    "            first +=1\n",
    "            last -+1\n",
    "        else:\n",
    "            return False\n",
    "    return True"
   ]
  },
  {
   "cell_type": "code",
   "execution_count": 35,
   "id": "bffed713-89dc-4dc9-ad95-5a9e1923db7d",
   "metadata": {},
   "outputs": [
    {
     "data": {
      "text/plain": [
       "False"
      ]
     },
     "execution_count": 35,
     "metadata": {},
     "output_type": "execute_result"
    }
   ],
   "source": [
    "palindrom4('akshay')"
   ]
  },
  {
   "cell_type": "markdown",
   "id": "8dad696a-a8b8-4dbc-b684-8fca838d3c34",
   "metadata": {},
   "source": [
    "## Q2 PAlindrome Number"
   ]
  },
  {
   "cell_type": "code",
   "execution_count": 45,
   "id": "7788ccf9-83f6-44d3-91fe-33ef9f67b03b",
   "metadata": {},
   "outputs": [
    {
     "name": "stdin",
     "output_type": "stream",
     "text": [
      "Enter Number: 1221\n"
     ]
    },
    {
     "name": "stdout",
     "output_type": "stream",
     "text": [
      "Its palindrome\n"
     ]
    }
   ],
   "source": [
    "def palNumber(n):\n",
    "    if n < 0:\n",
    "        return False\n",
    "    temp=n\n",
    "    reverse=0\n",
    "    while temp >0:\n",
    "        reminder=temp%10\n",
    "        reverse=reverse*10+reminder\n",
    "        temp=temp//10\n",
    "    return n==reverse\n",
    "n=int(input(\"Enter Number:\"))\n",
    "if palNumber(n):\n",
    "    print('Its palindrome')\n",
    "else:\n",
    "    print('no')"
   ]
  },
  {
   "cell_type": "markdown",
   "id": "3e4be89c-9a00-4cfd-b3a7-5666563f680d",
   "metadata": {},
   "source": [
    "## Fibonachi Series"
   ]
  },
  {
   "cell_type": "code",
   "execution_count": 57,
   "id": "8bf72b41-5ca2-4f18-888e-aabf9bc605aa",
   "metadata": {},
   "outputs": [],
   "source": [
    "#Using Third variable\n",
    "def fibo(number):\n",
    "    a,b=0,1\n",
    "    print(a)\n",
    "    sum1=0\n",
    "    while(number>b):\n",
    "        c=a+b\n",
    "        a=b\n",
    "        b=c\n",
    "        print(b)\n",
    "        sum1=a+b+c\n",
    "        #print(sum1)\n",
    "\n"
   ]
  },
  {
   "cell_type": "code",
   "execution_count": 58,
   "id": "21925e05-2e81-4f2a-b997-83a376079a64",
   "metadata": {},
   "outputs": [
    {
     "name": "stdout",
     "output_type": "stream",
     "text": [
      "0\n",
      "1\n",
      "2\n",
      "3\n",
      "5\n"
     ]
    }
   ],
   "source": [
    "fibo(5)"
   ]
  },
  {
   "cell_type": "code",
   "execution_count": 60,
   "id": "3cdda33b-782b-44be-8f8f-0f71c00e567f",
   "metadata": {},
   "outputs": [],
   "source": [
    "#by using for loop\n",
    "def fibo(number):\n",
    "    a,b=0,1\n",
    "    if number==1:\n",
    "        print(a)\n",
    "    else:\n",
    "        print(a)\n",
    "        print(b)\n",
    "        for i in range(2,number):\n",
    "            c=a+b\n",
    "            a=b\n",
    "            b=c\n",
    "            print(c)"
   ]
  },
  {
   "cell_type": "code",
   "execution_count": 63,
   "id": "b764796a-bde0-47e8-8283-f151a3fbcf03",
   "metadata": {},
   "outputs": [
    {
     "name": "stdout",
     "output_type": "stream",
     "text": [
      "0\n",
      "1\n",
      "1\n",
      "2\n",
      "3\n",
      "5\n",
      "8\n",
      "13\n",
      "21\n",
      "34\n"
     ]
    }
   ],
   "source": [
    "#fibo(10)"
   ]
  },
  {
   "cell_type": "code",
   "execution_count": 64,
   "id": "18789515-745e-48a3-97b9-69dd15bc9b41",
   "metadata": {},
   "outputs": [
    {
     "name": "stdin",
     "output_type": "stream",
     "text": [
      "Enter Number: 5\n"
     ]
    },
    {
     "name": "stdout",
     "output_type": "stream",
     "text": [
      "0\n",
      "1\n",
      "1\n",
      "2\n",
      "3\n"
     ]
    }
   ],
   "source": [
    "#USing recursion\n",
    "def fibonacci(n):\n",
    "    if n<=1:\n",
    "        return n\n",
    "    else:\n",
    "        return (fibonacci(n-1) + fibonacci(n-2))\n",
    "\n",
    "n=int(input(\"Enter Number:\"))\n",
    "if n<=0:\n",
    "    print(\"Invalid\")\n",
    "else:\n",
    "    for i in range(n):\n",
    "        print(fibonacci(i))\n"
   ]
  },
  {
   "cell_type": "code",
   "execution_count": 66,
   "id": "4e3f5a17-6471-44b0-9aa2-ad8d970cc9dd",
   "metadata": {},
   "outputs": [
    {
     "name": "stdin",
     "output_type": "stream",
     "text": [
      "Enter Number: 5\n"
     ]
    },
    {
     "name": "stdout",
     "output_type": "stream",
     "text": [
      "0\n",
      "1\n",
      "1\n",
      "2\n",
      "3\n"
     ]
    }
   ],
   "source": [
    "def fibonacci(n):\n",
    "    if n<=1:\n",
    "        return n\n",
    "    else:\n",
    "        return (fibonacci(n-1) + fibonacci(n-2))\n",
    "n=int(input(\"Enter Number:\"))\n",
    "if n <=0:\n",
    "    print(\"Invalid Number\")\n",
    "else:\n",
    "    for i in range(n):\n",
    "        print(fibonacci(i))"
   ]
  },
  {
   "cell_type": "markdown",
   "id": "247591fb-c3fc-4096-9d0b-78dcc609c2fb",
   "metadata": {},
   "source": [
    "## Q4 Compress String"
   ]
  },
  {
   "cell_type": "code",
   "execution_count": 67,
   "id": "301480b3-e2aa-4cab-8050-caec5ed4b5b9",
   "metadata": {},
   "outputs": [],
   "source": [
    "#aabbccddeeee\n",
    "#a2b2c2d2e4"
   ]
  },
  {
   "cell_type": "code",
   "execution_count": 74,
   "id": "6871fde0-abf6-430e-9cd6-7bbcb0da8462",
   "metadata": {},
   "outputs": [],
   "source": [
    "#Using for loop\n",
    "def compress(s):\n",
    "    new_s=''\n",
    "    count=1\n",
    "    n=len(s)\n",
    "    for i in range(n-1):\n",
    "        if s[i]==s[i+1]:\n",
    "            count +=1\n",
    "\n",
    "        else:\n",
    "            new_s=new_s+s[i]+str(count)\n",
    "            count=1\n",
    "    new_s=new_s+s[n-1]+str(count)\n",
    "    return new_s\n",
    "    #print(new_s)\n"
   ]
  },
  {
   "cell_type": "code",
   "execution_count": 75,
   "id": "a47430bd-5f6d-4208-b87d-99679439efbd",
   "metadata": {},
   "outputs": [
    {
     "data": {
      "text/plain": [
       "'a3b3c2d2'"
      ]
     },
     "execution_count": 75,
     "metadata": {},
     "output_type": "execute_result"
    }
   ],
   "source": [
    "s='aaabbbccdd'\n",
    "compress(s)"
   ]
  },
  {
   "cell_type": "code",
   "execution_count": 83,
   "id": "8f190073-5a32-4da5-bdcd-32407bedc15f",
   "metadata": {},
   "outputs": [],
   "source": [
    "#USING FOR LOOp\n",
    "def compress2(s):\n",
    "    n=len(s)\n",
    "    i=0\n",
    "    new_s=''\n",
    "    while(i<n-1):\n",
    "        count=1\n",
    "        while(i<n-1 and s[i]==s[i+1]):\n",
    "            count +=1\n",
    "            i +=1\n",
    "        i +=1\n",
    "        new_s=new_s+s[i-1]+str(count)\n",
    "    return new_s"
   ]
  },
  {
   "cell_type": "code",
   "execution_count": 84,
   "id": "a2c35825-6b52-45b4-bf45-80430166a05b",
   "metadata": {},
   "outputs": [
    {
     "data": {
      "text/plain": [
       "'a3b3'"
      ]
     },
     "execution_count": 84,
     "metadata": {},
     "output_type": "execute_result"
    }
   ],
   "source": [
    "s='aaabbb'\n",
    "compress2(s)"
   ]
  },
  {
   "cell_type": "markdown",
   "id": "d86cb807-ac90-48f4-9a5b-4384116b4ef5",
   "metadata": {},
   "source": [
    "## Q5 FizzBuzz"
   ]
  },
  {
   "cell_type": "code",
   "execution_count": 85,
   "id": "be35fa46-a9d1-432e-b3eb-65e1ff44e45c",
   "metadata": {},
   "outputs": [],
   "source": [
    "# /3 Fizz\n",
    "# /5 buzz\n",
    "# /15 Fizzbuzz\n"
   ]
  },
  {
   "cell_type": "code",
   "execution_count": 86,
   "id": "adccf5d5-8986-4ea2-a2e1-8eb141ecdf7c",
   "metadata": {},
   "outputs": [
    {
     "name": "stdout",
     "output_type": "stream",
     "text": [
      "1\n",
      "2\n",
      "Fizz\n",
      "4\n"
     ]
    }
   ],
   "source": [
    "def fizzbuzz(n):\n",
    "    for i in range(1,n+1):\n",
    "        if i % 3==0 and i%5==0:\n",
    "            print(\"FizzBuzz\")\n",
    "        elif i %3==0:\n",
    "            print(\"Fizz\")\n",
    "        elif i%5==0:\n",
    "            print('Buzz')\n",
    "        else:\n",
    "            print(i)\n",
    "fizzbuzz(5)"
   ]
  },
  {
   "cell_type": "code",
   "execution_count": 91,
   "id": "a15409c6-b95b-4831-8eaa-0f39c06712e6",
   "metadata": {},
   "outputs": [],
   "source": [
    "def fizzbuzz2(n):\n",
    "    d={3:'fizz',5:'Buzz'}\n",
    "    for i in range(1,n+1):\n",
    "        result=''\n",
    "        for k,v in d.items():\n",
    "            if i%k==0:\n",
    "                result +=v\n",
    "        if not result:\n",
    "            result =i\n",
    "        print(result)"
   ]
  },
  {
   "cell_type": "code",
   "execution_count": 92,
   "id": "f1794a32-7351-4c4c-8a1b-a7d027b9b6d6",
   "metadata": {},
   "outputs": [
    {
     "name": "stdout",
     "output_type": "stream",
     "text": [
      "1\n",
      "2\n",
      "fizz\n",
      "4\n",
      "Buzz\n",
      "fizz\n",
      "7\n",
      "8\n",
      "fizz\n",
      "Buzz\n",
      "11\n",
      "fizz\n",
      "13\n",
      "14\n",
      "fizzBuzz\n"
     ]
    }
   ],
   "source": [
    "fizzbuzz2(15)"
   ]
  },
  {
   "cell_type": "markdown",
   "id": "9c94c3fa-68cc-4f3e-817d-71a1d9b62d53",
   "metadata": {},
   "source": [
    "## Q 6 Character Occurence"
   ]
  },
  {
   "cell_type": "code",
   "execution_count": 94,
   "id": "4b6e2e5d-fd90-4b16-bbb8-2d15d42e0e73",
   "metadata": {},
   "outputs": [
    {
     "data": {
      "text/plain": [
       "{'a': 1, 'k': 3, 's': 2, 'h': 1, 'y': 2}"
      ]
     },
     "execution_count": 94,
     "metadata": {},
     "output_type": "execute_result"
    }
   ],
   "source": [
    "#least repeating char in a string\n",
    "def occurance(string):\n",
    "    n=len(string)\n",
    "    dct={}\n",
    "    for i in string:\n",
    "        if i in dct:\n",
    "            dct[i]=dct[i]+1\n",
    "        else:\n",
    "            dct[i]=1\n",
    "    return dct\n",
    "string='akkksshyy'\n",
    "occurance(string)"
   ]
  },
  {
   "cell_type": "markdown",
   "id": "eece42a4-2ec4-4de5-b555-2fe9bd13d151",
   "metadata": {},
   "source": [
    "## Q 7 Prime Number"
   ]
  },
  {
   "cell_type": "code",
   "execution_count": 98,
   "id": "5e14694a-e7cb-4d41-bd5d-916eace81403",
   "metadata": {},
   "outputs": [],
   "source": [
    "def prime(number):\n",
    "    flag=False\n",
    "    if number > 1:\n",
    "        for i in range(2,number//2 + 1):\n",
    "            if number%i==0:\n",
    "                flag=True\n",
    "                break\n",
    "    if flag:\n",
    "        return \"No ! Its  not a prime\"\n",
    "    else:\n",
    "        return \"Yes ! Its a Prime\"\n",
    "        \n",
    "            "
   ]
  },
  {
   "cell_type": "code",
   "execution_count": 99,
   "id": "2530b4fb-1fa8-4a13-97c3-3d9370a669c1",
   "metadata": {},
   "outputs": [
    {
     "data": {
      "text/plain": [
       "'Yes ! Its a Prime'"
      ]
     },
     "execution_count": 99,
     "metadata": {},
     "output_type": "execute_result"
    }
   ],
   "source": [
    "prime(11)"
   ]
  },
  {
   "cell_type": "code",
   "execution_count": 104,
   "id": "5b572a44-f7b6-4535-b04c-9a64cadc9328",
   "metadata": {},
   "outputs": [],
   "source": [
    "def prime1(start,end):\n",
    "    for number in range(start,end):\n",
    "        if number > 1:\n",
    "            for i in range(2,number//2 + 1):\n",
    "                if number%i==0:\n",
    "                    break\n",
    "        \n",
    "            else:\n",
    "                print(number)\n",
    "            "
   ]
  },
  {
   "cell_type": "code",
   "execution_count": 105,
   "id": "0bce9024-f06f-4ab4-8080-a8d01f8cf3a2",
   "metadata": {},
   "outputs": [
    {
     "name": "stdout",
     "output_type": "stream",
     "text": [
      "2\n",
      "3\n",
      "5\n",
      "7\n"
     ]
    }
   ],
   "source": [
    "prime1(1,10)"
   ]
  },
  {
   "cell_type": "markdown",
   "id": "a8e66c79-b8dd-4aa8-a851-2068eef504f9",
   "metadata": {},
   "source": [
    "## Q 8 Modify String format"
   ]
  },
  {
   "cell_type": "code",
   "execution_count": 106,
   "id": "e0089050-a901-4bd4-9b96-0e3f3a7e9bac",
   "metadata": {},
   "outputs": [],
   "source": [
    "# I_AM_Coder\n",
    "#op i.am.cODER"
   ]
  },
  {
   "cell_type": "code",
   "execution_count": 121,
   "id": "06535cb8-c1c8-4217-a3a8-db14ffdfdcf4",
   "metadata": {},
   "outputs": [],
   "source": [
    "def string_format(s):\n",
    "    l=[]\n",
    "    temp=s.split('_')\n",
    "    for i in s:\n",
    "        if i.isupper():\n",
    "            l.append(i.lower())\n",
    "        elif i.islower():\n",
    "            l.append(i.upper())\n",
    "        else:\n",
    "            l.append(i)\n",
    "    new_s=''.join(l)\n",
    "    m=new_s.split('_')\n",
    "    new_str='.'.join(m)\n",
    "    return new_str"
   ]
  },
  {
   "cell_type": "code",
   "execution_count": 122,
   "id": "4697e5af-e36a-45cf-a1f4-1fd344e13078",
   "metadata": {},
   "outputs": [
    {
     "data": {
      "text/plain": [
       "'i.am.cODER'"
      ]
     },
     "execution_count": 122,
     "metadata": {},
     "output_type": "execute_result"
    }
   ],
   "source": [
    "s=\"I_AM_Coder\"\n",
    "string_format(s)"
   ]
  },
  {
   "cell_type": "markdown",
   "id": "d7a09e93-56ff-4a0e-a91f-071ebd6dd10f",
   "metadata": {},
   "source": [
    "## Q 9 Second Largest Number"
   ]
  },
  {
   "cell_type": "code",
   "execution_count": 123,
   "id": "c0088e30-0587-4f66-a576-f4193b2d5738",
   "metadata": {},
   "outputs": [],
   "source": [
    "#Using for loop"
   ]
  },
  {
   "cell_type": "code",
   "execution_count": 133,
   "id": "9fda8281-26bb-4aaf-b7c0-e9ad24525135",
   "metadata": {},
   "outputs": [],
   "source": [
    "def second_highest(number):\n",
    "    n=len(number)\n",
    "    for i in range(n):\n",
    "        for j in range(i+1,n):\n",
    "            if number[i]>number[j]:\n",
    "                number[i],number[j]=number[j],number[i]\n",
    "    return number[-2]"
   ]
  },
  {
   "cell_type": "code",
   "execution_count": 134,
   "id": "ddfe6896-8dbd-4ca9-9f1c-e4bfaeeb15a6",
   "metadata": {},
   "outputs": [
    {
     "data": {
      "text/plain": [
       "33"
      ]
     },
     "execution_count": 134,
     "metadata": {},
     "output_type": "execute_result"
    }
   ],
   "source": [
    "number=[5,6,75,4,33,1,2,22]\n",
    "second_highest(number)"
   ]
  },
  {
   "cell_type": "markdown",
   "id": "813196cc-2d5c-4359-953c-da411af62f6c",
   "metadata": {},
   "source": [
    "## Q 10 Amstrong Number"
   ]
  },
  {
   "cell_type": "code",
   "execution_count": 14,
   "id": "9d954fe4-ce84-4508-a363-b7ffa77c75d1",
   "metadata": {},
   "outputs": [],
   "source": [
    "def amstrong(n):\n",
    "    sum=0\n",
    "    temp=n\n",
    "    while temp > 0:\n",
    "        digit=temp%10\n",
    "        sum= sum + (digit**3)\n",
    "        temp=temp // 10\n",
    "        #print(temp)\n",
    "    #print(sum)\n",
    "    if n==sum:\n",
    "        print(\"Yes\")\n",
    "    else:\n",
    "        print(\"No\")"
   ]
  },
  {
   "cell_type": "code",
   "execution_count": 15,
   "id": "10ff69a4-7c92-4e57-a998-90bdf9a85313",
   "metadata": {},
   "outputs": [
    {
     "name": "stdout",
     "output_type": "stream",
     "text": [
      "Yes\n"
     ]
    }
   ],
   "source": [
    "n=153\n",
    "amstrong(n)"
   ]
  },
  {
   "cell_type": "code",
   "execution_count": 1,
   "id": "bdc53a3c-1a2e-4e99-93b0-b9a103d0079d",
   "metadata": {},
   "outputs": [],
   "source": [
    "def amstrong1(start,end):\n",
    "    for n in range(start,end):\n",
    "        sum=0\n",
    "        temp=n\n",
    "        while temp > 0:\n",
    "            reminder=temp%10\n",
    "            sum=sum + reminder**3\n",
    "            temp=temp//10\n",
    "        if n==sum:\n",
    "            print(n)"
   ]
  },
  {
   "cell_type": "code",
   "execution_count": 2,
   "id": "e7fa11cc-2942-4982-a098-4757372e2d0d",
   "metadata": {},
   "outputs": [
    {
     "name": "stdout",
     "output_type": "stream",
     "text": [
      "0\n",
      "1\n",
      "153\n",
      "370\n",
      "371\n",
      "407\n"
     ]
    }
   ],
   "source": [
    "amstrong1(0,500)"
   ]
  },
  {
   "cell_type": "code",
   "execution_count": null,
   "id": "e7faeb04-28ff-494b-918d-784a829c8867",
   "metadata": {},
   "outputs": [],
   "source": []
  }
 ],
 "metadata": {
  "kernelspec": {
   "display_name": "Python 3 (ipykernel)",
   "language": "python",
   "name": "python3"
  },
  "language_info": {
   "codemirror_mode": {
    "name": "ipython",
    "version": 3
   },
   "file_extension": ".py",
   "mimetype": "text/x-python",
   "name": "python",
   "nbconvert_exporter": "python",
   "pygments_lexer": "ipython3",
   "version": "3.12.0"
  }
 },
 "nbformat": 4,
 "nbformat_minor": 5
}
